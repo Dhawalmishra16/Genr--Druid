{
 "cells": [
  {
   "cell_type": "code",
   "execution_count": 10,
   "metadata": {
    "scrolled": true
   },
   "outputs": [
    {
     "data": {
      "text/plain": [
       "1.0"
      ]
     },
     "execution_count": 10,
     "metadata": {},
     "output_type": "execute_result"
    }
   ],
   "source": [
    "import pandas as pd\n",
    "from sklearn.tree import DecisionTreeClassifier\n",
    "from sklearn.model_selection import train_test_split\n",
    "from sklearn.metrics import accuracy_score\n",
    "from sklearn.externals import joblib\n",
    "from sklearn import tree\n",
    "\n",
    "m_d = pd.read_csv('music.csv')\n",
    "X = m_d.drop(columns=['genre'])\n",
    "Y = m_d['genre']\n",
    "X_train, X_test, Y_train, Y_test = train_test_split(X, Y, test_size=0.2)\n",
    "\n",
    "model = DecisionTreeClassifier()\n",
    "model.fit(X, Y)\n",
    "predictions = model.predict(X_test)\n",
    "# model = joblib.load('music-recommender.joblib')\n",
    "# tree.export_graphviz(model, out_file='music-recommender.dot',\n",
    "#                      feature_names=['age', 'gender'],\n",
    "#                      class_names=sorted(Y.unique()),\n",
    "#                      label = 'all',\n",
    "#                      rounded=True,\n",
    "#                      filled=True)\n",
    "# score = accuracy_score(Y_test, predictions)\n",
    "\n",
    "# score\n",
    "# predictions\n",
    "# m_d"
   ]
  }
 ],
 "metadata": {
  "kernelspec": {
   "display_name": "Python 3",
   "language": "python",
   "name": "python3"
  },
  "language_info": {
   "codemirror_mode": {
    "name": "ipython",
    "version": 3
   },
   "file_extension": ".py",
   "mimetype": "text/x-python",
   "name": "python",
   "nbconvert_exporter": "python",
   "pygments_lexer": "ipython3",
   "version": "3.7.4"
  }
 },
 "nbformat": 4,
 "nbformat_minor": 2
}
